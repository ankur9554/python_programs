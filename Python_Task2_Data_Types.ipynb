{
  "nbformat": 4,
  "nbformat_minor": 0,
  "metadata": {
    "colab": {
      "provenance": []
    },
    "kernelspec": {
      "name": "python3",
      "display_name": "Python 3"
    },
    "language_info": {
      "name": "python"
    }
  },
  "cells": [
    {
      "cell_type": "markdown",
      "source": [
        "List Comprehension"
      ],
      "metadata": {
        "id": "Tjx66oyxw-W4"
      }
    },
    {
      "cell_type": "code",
      "execution_count": null,
      "metadata": {
        "id": "40MCsvxdoD81"
      },
      "outputs": [],
      "source": [
        "if __name__ == '__main__':\n",
        "    x = int(input())\n",
        "    y = int(input())\n",
        "    z = int(input())\n",
        "    n = int(input())\n",
        "    \n",
        "    \n",
        "list = []\n",
        "for i in range(x+1):\n",
        "    for j in range(y+1):\n",
        "        for k in range(z+1):\n",
        "            list.append([i,j,k])\n",
        "len = len(list)\n",
        "for i in range(len):\n",
        "    for itr in list:\n",
        "      if sum(itr)==n:\n",
        "        list.remove(itr)\n",
        "print(list)"
      ]
    },
    {
      "cell_type": "markdown",
      "source": [
        "Find the Runner up Score\n"
      ],
      "metadata": {
        "id": "PLJb5hxew6bO"
      }
    },
    {
      "cell_type": "code",
      "source": [
        "if __name__ == '__main__':\n",
        "    n = int(input())\n",
        "    arr = map(int, input().split())\n",
        "    list1 = list(arr)\n",
        "    list1.sort()\n",
        "    list1.reverse()\n",
        "    i=0\n",
        "    while list1[i]==list1[i+1]:\n",
        "        i=i+1\n",
        "    print(list1[i+1])    \n"
      ],
      "metadata": {
        "id": "thvC-UwipGdO"
      },
      "execution_count": null,
      "outputs": []
    },
    {
      "cell_type": "markdown",
      "source": [
        "Nested List"
      ],
      "metadata": {
        "id": "gzQZ3Q8gxIpe"
      }
    },
    {
      "cell_type": "code",
      "source": [
        "if __name__ == '__main__':\n",
        "    list = []\n",
        "    scores = set()\n",
        "    second_lowest_names =[]\n",
        "    for i in range(int(input())):\n",
        "        name = input()\n",
        "        score = float(input())\n",
        "        list.append([name,score])\n",
        "        scores.add(score)\n",
        "    second_lowest = sorted(scores)[1]\n",
        "    for name,score in list:\n",
        "        if score == second_lowest:\n",
        "            second_lowest_names.append(name)\n",
        "    for name in sorted(second_lowest_names):\n",
        "        print(name, end='\\n')  "
      ],
      "metadata": {
        "id": "RE02jPUcpSmd"
      },
      "execution_count": null,
      "outputs": []
    },
    {
      "cell_type": "markdown",
      "source": [
        "Finding the Percentage"
      ],
      "metadata": {
        "id": "cNp-k_M_xl2k"
      }
    },
    {
      "cell_type": "code",
      "source": [
        "if __name__ == '__main__':\n",
        "    n = int(input())\n",
        "    student_marks = {}\n",
        "    for i in range(n):\n",
        "        name, *line = input().split()\n",
        "        scores = list(map(float, line))\n",
        "        student_marks[name] = scores\n",
        "    query_name = input()\n",
        "    marks = student_marks[query_name]\n",
        "    score_total = sum(marks)\n",
        "    avg = score_total/3\n",
        "    \n",
        "    format_avg = \"{:.2f}\".format(avg)\n",
        "    print(format_avg)\n",
        "        "
      ],
      "metadata": {
        "id": "X1DsNqRjpgMB"
      },
      "execution_count": null,
      "outputs": []
    },
    {
      "cell_type": "markdown",
      "source": [
        "List"
      ],
      "metadata": {
        "id": "E8LnoXGGxi0C"
      }
    },
    {
      "cell_type": "code",
      "source": [
        "if __name__ == '__main__':\n",
        "    N = int(input())\n",
        "    lis = []\n",
        "    for i in range(N):\n",
        "        s=input().strip().split(\" \")\n",
        "        if s[0]==\"insert\":\n",
        "            lis.insert(int(s[1]),int(s[2]))\n",
        "        if s[0]==\"print\":\n",
        "            print(lis)\n",
        "        if s[0]==\"remove\":\n",
        "            lis.remove(int(s[1]))\n",
        "        if s[0]==\"append\":\n",
        "            lis.append(int(s[1]))\n",
        "        if s[0]==\"sort\":\n",
        "            lis.sort()\n",
        "        if s[0]==\"pop\":\n",
        "            lis.pop()\n",
        "        if s[0]==\"reverse\":\n",
        "            lis.reverse()\n"
      ],
      "metadata": {
        "id": "4Ybw2VNzprNi"
      },
      "execution_count": null,
      "outputs": []
    },
    {
      "cell_type": "markdown",
      "source": [
        "Tuples"
      ],
      "metadata": {
        "id": "u1Ec8gkVxgB4"
      }
    },
    {
      "cell_type": "code",
      "source": [
        "if __name__ == '__main__':\n",
        "    n = int(input())\n",
        "    integer_list = map(int, input().split())\n",
        "    t= tuple(integer_list)\n",
        "    print(hash(t))\n"
      ],
      "metadata": {
        "id": "hDxCcQKhp2S1"
      },
      "execution_count": null,
      "outputs": []
    },
    {
      "cell_type": "markdown",
      "source": [
        "Introduction to Sets"
      ],
      "metadata": {
        "id": "hxz3AjIkxa0v"
      }
    },
    {
      "cell_type": "code",
      "source": [
        "def average(array):\n",
        "    # your code goes here\n",
        "    array = set(array)\n",
        "    array= list(array)\n",
        "    sum=0\n",
        "    for i in range(len(array)):\n",
        "        sum +=array[i]\n",
        "    avg = sum/len(array)\n",
        "    return avg    \n",
        "\n"
      ],
      "metadata": {
        "id": "i6iFiWGep_P1"
      },
      "execution_count": null,
      "outputs": []
    },
    {
      "cell_type": "markdown",
      "source": [
        "Set Symmetric Difference"
      ],
      "metadata": {
        "id": "xgDu8w8awt3Z"
      }
    },
    {
      "cell_type": "code",
      "source": [
        "\n",
        "input()\n",
        "M = set(map(int, input().split()))\n",
        "input()\n",
        "N = set(map(int, input().split()))\n",
        "output = sorted(list(M.union(N).difference(M.intersection(N))))\n",
        "for item in output:\n",
        "    print(item)"
      ],
      "metadata": {
        "id": "u_ja615WwYlR"
      },
      "execution_count": null,
      "outputs": []
    },
    {
      "cell_type": "markdown",
      "source": [
        "Set Add"
      ],
      "metadata": {
        "id": "dAdvC2a5w0A5"
      }
    },
    {
      "cell_type": "code",
      "source": [
        "number = int(input())\n",
        "lst = []\n",
        "for i in range(number):\n",
        "    enter = input()\n",
        "    lst.append(enter)\n",
        "    \n",
        "resultado = len(set(lst))\n",
        "\n",
        "print(resultado)"
      ],
      "metadata": {
        "id": "aIa-5KrLw3FR"
      },
      "execution_count": null,
      "outputs": []
    },
    {
      "cell_type": "markdown",
      "source": [
        "Set discard(), remove()"
      ],
      "metadata": {
        "id": "yTMLszlpHbim"
      }
    },
    {
      "cell_type": "code",
      "source": [
        "n = int(input())\n",
        "s = set(map(int, input().split()))\n",
        "N = int(input())\n",
        "for i in range(0,N):\n",
        "    command = input()\n",
        "    if command == 'pop':\n",
        "        s.pop()\n",
        "    else:\n",
        "        command, index = command.split()\n",
        "        s.discard(int(index))\n",
        "        \n",
        "print(sum(s))"
      ],
      "metadata": {
        "id": "M8QYw2ciHlPs"
      },
      "execution_count": null,
      "outputs": []
    },
    {
      "cell_type": "markdown",
      "source": [
        "Set Union"
      ],
      "metadata": {
        "id": "-ULxmWPmJOM1"
      }
    },
    {
      "cell_type": "code",
      "source": [
        "n, N = (int(input()), set(map(int, input().split())))\n",
        "b, B = (int(input()), set(map(int, input().split())))\n",
        "print(len(N.union(B)))"
      ],
      "metadata": {
        "id": "zCvzTrwsJRXp"
      },
      "execution_count": null,
      "outputs": []
    },
    {
      "cell_type": "markdown",
      "source": [
        "Set Intersaction"
      ],
      "metadata": {
        "id": "_ooOZSdtJd3p"
      }
    },
    {
      "cell_type": "code",
      "source": [
        "input()\n",
        "set1 = set(map(int, input().split()))\n",
        "input()\n",
        "set2 = set(map(int, input().split()))\n",
        "print(len(set1 & set2))"
      ],
      "metadata": {
        "id": "saM1irf2Jc7H"
      },
      "execution_count": null,
      "outputs": []
    },
    {
      "cell_type": "markdown",
      "source": [
        "Set Difference"
      ],
      "metadata": {
        "id": "R-24lHSzJw3j"
      }
    },
    {
      "cell_type": "code",
      "source": [
        "input()\n",
        "s = set(input().split())\n",
        "input()\n",
        "print(len(s.difference(input().split())))"
      ],
      "metadata": {
        "id": "lA6Z6tyKKBKf"
      },
      "execution_count": null,
      "outputs": []
    },
    {
      "cell_type": "markdown",
      "source": [
        "Symmetric Difference"
      ],
      "metadata": {
        "id": "0c3hYzxrK3FR"
      }
    },
    {
      "cell_type": "code",
      "source": [
        "input()\n",
        "a = set(map(int, input().split()))\n",
        "input()\n",
        "b = set(map(int, input().split()))\n",
        "print(len(a.symmetric_difference(b)))"
      ],
      "metadata": {
        "id": "nmWFM2nyK6WF"
      },
      "execution_count": null,
      "outputs": []
    },
    {
      "cell_type": "markdown",
      "source": [
        "Set Mutation"
      ],
      "metadata": {
        "id": "Npif3_rKLFcN"
      }
    },
    {
      "cell_type": "code",
      "source": [
        "num_A = int(input())\n",
        "set_A = set(map(int, input().split()))\n",
        "num_O = int(input())\n",
        "\n",
        "set_dict = {}\n",
        "\n",
        "for i in range(num_O):\n",
        "    query = input()\n",
        "    elements = set(map(int, input().split()))\n",
        "    set_dict[query] = elements\n",
        "    \n",
        "for k, v in set_dict.items():\n",
        "        command, len_set = k.split()\n",
        "        len_set = int(len_set)\n",
        "        \n",
        "        if command == 'intersection_update':\n",
        "            set_A.intersection_update(v)\n",
        "        \n",
        "        elif command == 'update':\n",
        "            set_A.update(v)\n",
        "        \n",
        "        elif command == 'symmetric_difference_update':\n",
        "            set_A.symmetric_difference_update(v)\n",
        "        \n",
        "        elif command == 'difference_update':\n",
        "            set_A.difference_update(v)\n",
        "\n",
        "print(sum(set_A))"
      ],
      "metadata": {
        "id": "HBWOCxvnLN4C"
      },
      "execution_count": null,
      "outputs": []
    },
    {
      "cell_type": "markdown",
      "source": [
        "The Captions Room"
      ],
      "metadata": {
        "id": "UoydvkHZLWXO"
      }
    },
    {
      "cell_type": "code",
      "source": [
        "k = int(input())\n",
        "frequency_map = {}\n",
        "for i in map(int, input().split()):\n",
        "    if i in frequency_map:\n",
        "        frequency_map[i] += 1\n",
        "    else:\n",
        "        frequency_map[i] = 1\n",
        "for i in frequency_map:\n",
        "    if frequency_map[i] == 1:\n",
        "        print(i)"
      ],
      "metadata": {
        "id": "vX0DzIk2LlcW"
      },
      "execution_count": null,
      "outputs": []
    },
    {
      "cell_type": "markdown",
      "source": [
        "Check Subset"
      ],
      "metadata": {
        "id": "WosxAa0XLt0e"
      }
    },
    {
      "cell_type": "code",
      "source": [
        "t=int(input())\n",
        "for i in range(t):\n",
        "    l=[]\n",
        "    l1=[]\n",
        "    c=0\n",
        "    n1=int(input())\n",
        "    l=list(map(int,input().split()))\n",
        "    n2=int(input())\n",
        "    l1=list(map(int,input().split()))\n",
        "    for i in l:\n",
        "        if i in l1:\n",
        "            c=c+1\n",
        "    if c==len(l):\n",
        "        print(True)\n",
        "    else:\n",
        "        print(False)    "
      ],
      "metadata": {
        "id": "1Uv0coPyLwa6"
      },
      "execution_count": null,
      "outputs": []
    },
    {
      "cell_type": "markdown",
      "source": [
        "Check Strict Superset"
      ],
      "metadata": {
        "id": "gyQCbHKTMD2D"
      }
    },
    {
      "cell_type": "code",
      "source": [
        "a=list(map(int,input().split()))\n",
        "n=int(input())\n",
        "l1=[]\n",
        "p=0\n",
        "for i in range(n):\n",
        "    l=list(map(int,input().split()))\n",
        "    l1.append(l)\n",
        "for i in l1:\n",
        "    c=0\n",
        "    for j in i:\n",
        "        if (j in a) and len(a)>len(i):\n",
        "            c=c+1\n",
        "        if c==len(i):\n",
        "            p=p+1    \n",
        "if p==len(l1):\n",
        "    print(True)\n",
        "else:\n",
        "    print(False)  "
      ],
      "metadata": {
        "id": "Yv2diy7KMH_e"
      },
      "execution_count": null,
      "outputs": []
    }
  ]
}