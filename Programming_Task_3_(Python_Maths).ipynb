{
  "nbformat": 4,
  "nbformat_minor": 0,
  "metadata": {
    "colab": {
      "provenance": []
    },
    "kernelspec": {
      "name": "python3",
      "display_name": "Python 3"
    },
    "language_info": {
      "name": "python"
    }
  },
  "cells": [
    {
      "cell_type": "markdown",
      "source": [
        "Find Angle MCB"
      ],
      "metadata": {
        "id": "Er8t3IYS45xn"
      }
    },
    {
      "cell_type": "code",
      "source": [
        "# Enter your code here. Read input from STDIN. Print output to STDOUT\n",
        "from math import atan , pi\n",
        "import math\n",
        "A = int(input())\n",
        "B = int(input())\n",
        "C = 180/pi * atan(A/B)\n",
        "print(round(C),chr(176),sep='')\n"
      ],
      "metadata": {
        "id": "pzKAxpEi48Fv"
      },
      "execution_count": null,
      "outputs": []
    },
    {
      "cell_type": "markdown",
      "source": [
        "Triangle Quest2"
      ],
      "metadata": {
        "id": "ElHd8jdV5EJB"
      }
    },
    {
      "cell_type": "code",
      "source": [
        "for i in range(1,int(input())+1): #More than 2 lines will result in 0 score. Do not leave a blank line also\n",
        "    print(((10**i)//9)**2) "
      ],
      "metadata": {
        "id": "DO2XQiV15Goj"
      },
      "execution_count": null,
      "outputs": []
    },
    {
      "cell_type": "markdown",
      "source": [
        "Move Divmond"
      ],
      "metadata": {
        "id": "mICeaRq16GHY"
      }
    },
    {
      "cell_type": "code",
      "source": [
        "# Enter your code here. Read input from STDIN. Print output to STDOUT\n",
        "a = int(input())\n",
        "b = int(input())\n",
        "print(a//b)\n",
        "print(a%b)\n",
        "print(divmod(a,b))"
      ],
      "metadata": {
        "id": "nxg_u_Lu6IQi"
      },
      "execution_count": null,
      "outputs": []
    },
    {
      "cell_type": "markdown",
      "source": [
        "Power Mod-Power"
      ],
      "metadata": {
        "id": "FTzx6FMG65Hu"
      }
    },
    {
      "cell_type": "code",
      "source": [
        "# Enter your code here. Read input from STDIN. Print output to STDOUT\n",
        "a = int(input())\n",
        "b = int(input())\n",
        "print(a//b)\n",
        "print(a%b)\n",
        "print(divmod(a,b))"
      ],
      "metadata": {
        "id": "i9kTSN5p69JB"
      },
      "execution_count": null,
      "outputs": []
    },
    {
      "cell_type": "markdown",
      "source": [
        "Integers Come In All Sizes"
      ],
      "metadata": {
        "id": "bodmLO9CVekY"
      }
    },
    {
      "cell_type": "code",
      "source": [
        "# Enter your code here. Read input from STDIN. Print output to STDOUT\n",
        "a = int(input())\n",
        "b = int(input())\n",
        "c = int(input())\n",
        "d = int(input())\n",
        "print(a**b + c**d)"
      ],
      "metadata": {
        "id": "-MB-KNLZVj_g"
      },
      "execution_count": null,
      "outputs": []
    },
    {
      "cell_type": "markdown",
      "source": [
        "Triangle Quest"
      ],
      "metadata": {
        "id": "ZJa6ZJ_nV-gS"
      }
    },
    {
      "cell_type": "code",
      "source": [
        "for i in range(1,int(input())): #More than 2 lines will result in 0 score. Do not leave a blank line also\n",
        "    print((10**i // 9) * i)"
      ],
      "metadata": {
        "id": "QckJ0ykIWFsg"
      },
      "execution_count": null,
      "outputs": []
    }
  ]
}