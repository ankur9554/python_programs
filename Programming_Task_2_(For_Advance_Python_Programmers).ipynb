{
  "nbformat": 4,
  "nbformat_minor": 0,
  "metadata": {
    "colab": {
      "provenance": []
    },
    "kernelspec": {
      "name": "python3",
      "display_name": "Python 3"
    },
    "language_info": {
      "name": "python"
    }
  },
  "cells": [
    {
      "cell_type": "markdown",
      "source": [
        "Defanging an IP Address"
      ],
      "metadata": {
        "id": "cu0cwU2WeaX_"
      }
    },
    {
      "cell_type": "code",
      "source": [
        "class Solution:\n",
        "    def defangIPaddr(self, address: str) -> str:\n",
        "        return address.replace('.', '[.]')"
      ],
      "metadata": {
        "id": "GXesxbFaea1Z"
      },
      "execution_count": null,
      "outputs": []
    },
    {
      "cell_type": "markdown",
      "source": [
        "Find Numbers with Even Number of Digits"
      ],
      "metadata": {
        "id": "8VIkLaGDehPQ"
      }
    },
    {
      "cell_type": "code",
      "source": [
        "class Solution:\n",
        "    def findNumbers(self, nums: List[int]) -> int:\n",
        "        count =0\n",
        "        for i in nums:\n",
        "            i = str(i)\n",
        "            if (len(i)%2==0):\n",
        "                count+=1"
      ],
      "metadata": {
        "id": "AIWxWUjFekEW"
      },
      "execution_count": null,
      "outputs": []
    },
    {
      "cell_type": "markdown",
      "source": [
        "Number of Good Pairs"
      ],
      "metadata": {
        "id": "JAeMZ7pxfTZR"
      }
    },
    {
      "cell_type": "code",
      "source": [
        "class Solution:\n",
        "    def numIdenticalPairs(self, nums: List[int]) -> int:\n",
        "        count =0\n",
        "        for i in range(len(nums)):\n",
        "            for j in range(len(nums)):\n",
        "                if i<j and nums[i]==nums[j]:\n",
        "                    count+=1\n",
        "        return count"
      ],
      "metadata": {
        "id": "AX1dUxCKfUGr"
      },
      "execution_count": null,
      "outputs": []
    },
    {
      "cell_type": "markdown",
      "source": [
        "How Many Numbers Are Smaller Than the Current Number"
      ],
      "metadata": {
        "id": "nqen_nrwlcWC"
      }
    },
    {
      "cell_type": "code",
      "source": [
        "class Solution:\n",
        "    def smallerNumbersThanCurrent(self, nums: List[int]) -> List[int]:\n",
        "        ans =[]\n",
        "        for i in range(len(nums)):\n",
        "            count =0\n",
        "            for j in range(len(nums)):\n",
        "                if(j!=i and nums[j]< nums[i]):\n",
        "                    count+=1\n",
        "            ans.append(count)\n",
        "        return ans"
      ],
      "metadata": {
        "id": "8jsS4IxgldC7"
      },
      "execution_count": null,
      "outputs": []
    },
    {
      "cell_type": "markdown",
      "source": [
        "Subtract the Product and Sum of Digits of an Integer"
      ],
      "metadata": {
        "id": "M6Rc1QT-oBAG"
      }
    },
    {
      "cell_type": "code",
      "source": [
        "class Solution:\n",
        "    def subtractProductAndSum(self, n: int) -> int:\n",
        "        n = str(n)\n",
        "        sum=0\n",
        "        mul=1\n",
        "        for i in n:\n",
        "            sum+=int(i)\n",
        "            mul*=int(i)\n",
        "        return mul-sum"
      ],
      "metadata": {
        "id": "lrBwJ_gGoBnb"
      },
      "execution_count": null,
      "outputs": []
    },
    {
      "cell_type": "markdown",
      "source": [
        "XOR Operation in an Array"
      ],
      "metadata": {
        "id": "wHTIcusVqlkV"
      }
    },
    {
      "cell_type": "code",
      "source": [
        "class Solution:\n",
        "    def xorOperation(self, n: int, start: int) -> int:\n",
        "        s1=[]\n",
        "        r = 0\n",
        "        for i in range(n):\n",
        "            s=start+(i*2)\n",
        "            s1.append(s)\n",
        "        for i in range(len(s1)):\n",
        "            r = r ^ s1[i]\n",
        "        return r"
      ],
      "metadata": {
        "id": "YktNh09YqmSw"
      },
      "execution_count": null,
      "outputs": []
    }
  ]
}