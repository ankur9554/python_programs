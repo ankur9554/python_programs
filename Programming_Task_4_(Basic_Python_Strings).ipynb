{
  "nbformat": 4,
  "nbformat_minor": 0,
  "metadata": {
    "colab": {
      "provenance": []
    },
    "kernelspec": {
      "name": "python3",
      "display_name": "Python 3"
    },
    "language_info": {
      "name": "python"
    }
  },
  "cells": [
    {
      "cell_type": "markdown",
      "source": [
        "sWAP cASE"
      ],
      "metadata": {
        "id": "HfknlYyRcKxZ"
      }
    },
    {
      "cell_type": "code",
      "source": [
        "def swap_case(s):\n",
        "    newTxt = \"\"\n",
        "    for i in range(len(s)):\n",
        "        if( s[i] == s[i].upper()):\n",
        "            newTxt += (s[i].lower())\n",
        "        else:\n",
        "            newTxt += (s[i].upper())\n",
        "    return newTxt\n",
        "\n",
        "\n",
        "if __name__ == '__main__':\n",
        "    s = input()\n",
        "    result = swap_case(s)\n",
        "    print(result)"
      ],
      "metadata": {
        "id": "q4mipCPRcPds"
      },
      "execution_count": null,
      "outputs": []
    },
    {
      "cell_type": "markdown",
      "source": [
        "String Split and Join"
      ],
      "metadata": {
        "id": "kMmgkX_4crYB"
      }
    },
    {
      "cell_type": "code",
      "source": [
        "def split_and_join(line):\n",
        "    # write your code here\n",
        "    line =line.split(\" \")\n",
        "    line = \"-\".join(line)\n",
        "    return line\n",
        "\n"
      ],
      "metadata": {
        "id": "IM_Q6xILcveK"
      },
      "execution_count": null,
      "outputs": []
    },
    {
      "cell_type": "markdown",
      "source": [
        "What is your Name"
      ],
      "metadata": {
        "id": "EnbTwPnLEsyL"
      }
    },
    {
      "cell_type": "code",
      "source": [
        "#\n",
        "# Complete the 'print_full_name' function below.\n",
        "#\n",
        "# The function is expected to return a STRING.\n",
        "# The function accepts following parameters:\n",
        "#  1. STRING first\n",
        "#  2. STRING last\n",
        "#\n",
        "\n",
        "def print_full_name(first, last):\n",
        "    # Write your code here\n",
        "    print('Hello '+first+' '+last+'! You just delved into python.')\n",
        "\n",
        "if __name__ == '__main__':\n",
        "    first_name = input()\n",
        "    last_name = input()\n",
        "    print_full_name(first_name, last_name)"
      ],
      "metadata": {
        "id": "IcyN41Z_EvyD"
      },
      "execution_count": null,
      "outputs": []
    },
    {
      "cell_type": "markdown",
      "source": [
        "Mutations"
      ],
      "metadata": {
        "id": "m2JoVPiaE6rO"
      }
    },
    {
      "cell_type": "code",
      "source": [
        "def mutate_string(string, position, character):\n",
        "    l= list(string)\n",
        "    l[position]=character\n",
        "    string =\"\".join(l)\n",
        "    return string"
      ],
      "metadata": {
        "id": "tc5U7x9aE9Na"
      },
      "execution_count": null,
      "outputs": []
    },
    {
      "cell_type": "markdown",
      "source": [
        "Find a String"
      ],
      "metadata": {
        "id": "BUKnPlMOFNK-"
      }
    },
    {
      "cell_type": "code",
      "source": [
        "def count_substring(string, sub_string):\n",
        "    count =0\n",
        "    for i in range(len(string)-len(sub_string)+1):\n",
        "        if string[i:i+len(sub_string)]==sub_string:\n",
        "            count = count+1\n",
        "    return count\n"
      ],
      "metadata": {
        "id": "CbwJOnwkFPYs"
      },
      "execution_count": null,
      "outputs": []
    },
    {
      "cell_type": "markdown",
      "source": [
        "Text Allignment"
      ],
      "metadata": {
        "id": "QwN3pzGbF5WE"
      }
    },
    {
      "cell_type": "code",
      "source": [
        "#Replace all ______ with rjust, ljust or center. \n",
        "\n",
        "thickness = int(input()) #This must be an odd number\n",
        "c = 'H'\n",
        "\n",
        "#Top Cone\n",
        "for i in range(thickness):\n",
        "    print((c*i).rjust(thickness-1)+c+(c*i).ljust(thickness-1))\n",
        "\n",
        "#Top Pillars\n",
        "for i in range(thickness+1):\n",
        "    print((c*thickness).center(thickness*2)+(c*thickness).center(thickness*6))\n",
        "\n",
        "#Middle Belt\n",
        "for i in range((thickness+1)//2):\n",
        "    print((c*thickness*5).center(thickness*6))    \n",
        "\n",
        "#Bottom Pillars\n",
        "for i in range(thickness+1):\n",
        "    print((c*thickness).center(thickness*2)+(c*thickness).center(thickness*6))    \n",
        "\n",
        "#Bottom Cone\n",
        "for i in range(thickness):\n",
        "    print(((c*(thickness-i-1)).rjust(thickness)+c+(c*(thickness-i-1)).ljust(thickness)).rjust(thickness*6))"
      ],
      "metadata": {
        "id": "GKr7S2GoF8Gg"
      },
      "execution_count": null,
      "outputs": []
    },
    {
      "cell_type": "markdown",
      "source": [
        "Text Wrap"
      ],
      "metadata": {
        "id": "gXWqew4IF_el"
      }
    },
    {
      "cell_type": "code",
      "source": [
        "import textwrap\n",
        "\n",
        "def wrap(string, max_width):\n",
        "    \n",
        "    return textwrap.fill(string,max_width)\n",
        "\n",
        "if __name__ == '__main__':\n",
        "    string, max_width = input(), int(input())\n",
        "    result = wrap(string, max_width)\n",
        "    print(result)"
      ],
      "metadata": {
        "id": "spctssWvGBNi"
      },
      "execution_count": null,
      "outputs": []
    },
    {
      "cell_type": "markdown",
      "source": [
        "Designer Door Mat"
      ],
      "metadata": {
        "id": "4kWBUGurGVFS"
      }
    },
    {
      "cell_type": "code",
      "source": [
        "# Enter your code here. Read input from STDIN. Print output to STDOUT\n",
        "n,m = map(int,input().split())\n",
        "\n",
        "if n % 2 != 0 and n >= 1:\n",
        "    m = n * 3\n",
        "    for i in range(0,int(n / 2)):\n",
        "        pattern = '.|.' * ((i * 2) + 1)\n",
        "        print(pattern.center(m,'-'))\n",
        "    print('WELCOME'.center(m,'-'))\n",
        "\n",
        "    for j in range(int(n /2 ), 0, -1):\n",
        "        pattern = '.|.' * ((j * 2) - 1)\n",
        "        print(pattern.center(m,'-'))"
      ],
      "metadata": {
        "id": "Cg6gEt-eGZ6Z"
      },
      "execution_count": null,
      "outputs": []
    },
    {
      "cell_type": "markdown",
      "source": [
        "String Formatting"
      ],
      "metadata": {
        "id": "16iFGSajGpeo"
      }
    },
    {
      "cell_type": "code",
      "source": [
        "def print_formatted(number):\n",
        "    # your code goes here\n",
        "    width = len(format(number, 'b'))\n",
        "    \n",
        "    for i in range(1, number + 1, 1):\n",
        "        dec = str(i).rjust(width,' ')\n",
        "        oct = format(i, \"o\").rjust(width, ' ')\n",
        "        hex = format(i, \"X\").rjust(width, ' ')\n",
        "        bin = format(i, 'b').rjust(width, ' ')\n",
        "        \n",
        "        print(f\"{dec} {oct} {hex} {bin}\")\n",
        "\n",
        "if __name__ == '__main__':\n",
        "    n = int(input())\n",
        "    print_formatted(n)"
      ],
      "metadata": {
        "id": "lpK7wpDQGrg1"
      },
      "execution_count": null,
      "outputs": []
    },
    {
      "cell_type": "markdown",
      "source": [
        "Alphabet Rangoli"
      ],
      "metadata": {
        "id": "L4e0cg9OG0pG"
      }
    },
    {
      "cell_type": "code",
      "source": [
        "def print_rangoli(size):\n",
        "    # your code goes here\n",
        "    s_list = []\n",
        "    s_up, s_down = '', ''\n",
        "    for asc in range(96 + size, 96, -1):\n",
        "        s_list.append(chr(asc))\n",
        "        row = '-'.join(s_list + (sorted(s_list)[1:])).center(((size - 1) * 3) + size, '-') + '\\n'\n",
        "        s_up = s_up + row\n",
        "        s_down = row + s_down\n",
        "\n",
        "    s_up = ''.join(list(s_up)[:-1])\n",
        "    s_down = ''.join(list(s_down)[((size - 1) * 3) + size:])\n",
        "    print(s_up + s_down)\n",
        "\n",
        "if __name__ == '__main__':\n",
        "    n = int(input())\n",
        "    print_rangoli(n)"
      ],
      "metadata": {
        "id": "OKEA3VRsG3-Y"
      },
      "execution_count": null,
      "outputs": []
    },
    {
      "cell_type": "markdown",
      "source": [
        "Capitalize"
      ],
      "metadata": {
        "id": "ozTMTXtwHPk2"
      }
    },
    {
      "cell_type": "code",
      "source": [
        "def solve(s):\n",
        "    words = s.split(' ')\n",
        "    result = []\n",
        "    for i in words:\n",
        "        result.append(i.capitalize())\n",
        "    s = ' '.join(result)\n",
        "    return(s)\n",
        "    \n",
        "if __name__ == '__main__':\n",
        "    fptr = open(os.environ['OUTPUT_PATH'], 'w')\n",
        "\n",
        "    s = input()\n",
        "\n",
        "    result = solve(s)\n",
        "\n",
        "    fptr.write(result + '\\n')\n",
        "\n",
        "    fptr.close()\n"
      ],
      "metadata": {
        "id": "KpuFggnyHSJ0"
      },
      "execution_count": null,
      "outputs": []
    },
    {
      "cell_type": "markdown",
      "source": [
        "The Minion Game"
      ],
      "metadata": {
        "id": "t0RJ3usDHoZY"
      }
    },
    {
      "cell_type": "code",
      "source": [
        "def minion_game(string):\n",
        "    # your code goes here\n",
        "    kevin, stuart = 0, 0\n",
        "    vowels = 'AEIOU'\n",
        "    n = len(string)\n",
        "    for i, c in enumerate(string):\n",
        "        if vowels.find(c) != -1:\n",
        "            kevin += n - i\n",
        "        else:\n",
        "            stuart += n - i\n",
        "    if kevin - stuart != 0:\n",
        "        print(f'Kevin {kevin}' if kevin > stuart else f'Stuart {stuart}')\n",
        "    else:\n",
        "        print('Draw')\n",
        "\n",
        "if __name__ == '__main__':\n",
        "    s = input()\n",
        "    minion_game(s)"
      ],
      "metadata": {
        "id": "uItKs0xoHr3E"
      },
      "execution_count": null,
      "outputs": []
    },
    {
      "cell_type": "markdown",
      "source": [
        "Merge The Tools"
      ],
      "metadata": {
        "id": "PORVxh3zHu2U"
      }
    },
    {
      "cell_type": "code",
      "source": [
        "from textwrap import wrap\n",
        "def merge_the_tools(string, k):\n",
        "    # your code goes here\n",
        "    ls = wrap(string, k)\n",
        "    new_ls = []\n",
        "    for x in ls:\n",
        "        result = x[0]\n",
        "        for i in range(1,len(x)):\n",
        "            if x[i] not in result:\n",
        "                result += x[i]\n",
        "            else: \n",
        "                continue\n",
        "        print(result)       \n",
        "if __name__ == '__main__':\n",
        "    string, k = input(), int(input())\n",
        "    merge_the_tools(string, k)"
      ],
      "metadata": {
        "id": "e49VJRFNHx6t"
      },
      "execution_count": null,
      "outputs": []
    }
  ]
}