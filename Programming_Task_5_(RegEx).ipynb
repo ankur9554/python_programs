{
  "nbformat": 4,
  "nbformat_minor": 0,
  "metadata": {
    "colab": {
      "provenance": []
    },
    "kernelspec": {
      "name": "python3",
      "display_name": "Python 3"
    },
    "language_info": {
      "name": "python"
    }
  },
  "cells": [
    {
      "cell_type": "markdown",
      "source": [
        "Re.split()"
      ],
      "metadata": {
        "id": "dKGpon-VJGVA"
      }
    },
    {
      "cell_type": "code",
      "source": [
        "\n",
        "regex_pattern = r\"[,.]+\"\t# Do not delete 'r'.\n",
        "\n",
        "import re\n",
        "print(\"\\n\".join(re.split(regex_pattern, input())))"
      ],
      "metadata": {
        "id": "GVPS-mz5JL_I"
      },
      "execution_count": null,
      "outputs": []
    },
    {
      "cell_type": "markdown",
      "source": [
        "group, groups, dictionary"
      ],
      "metadata": {
        "id": "VjyZIIK9KfbP"
      }
    },
    {
      "cell_type": "code",
      "source": [
        "# Enter your code here. Read input from STDIN. Print output to STDOUT\n",
        "import re\n",
        "char = input()\n",
        "pattern = r\"([a-zA-Z0-9])\\1+\"\n",
        "match = re.search(pattern,char)\n",
        "if match:\n",
        "    print(match.group(1))\n",
        "else:\n",
        "    print(-1)"
      ],
      "metadata": {
        "id": "rF21yeKtlE-o"
      },
      "execution_count": null,
      "outputs": []
    },
    {
      "cell_type": "markdown",
      "source": [
        "Re.findall() & Re.finditer()\n",
        "\n"
      ],
      "metadata": {
        "id": "zUNeampNlH0f"
      }
    },
    {
      "cell_type": "code",
      "source": [
        "# Enter your code here. Read input from STDIN. Print output to STDOUT\n",
        "import re\n",
        "\n",
        "s = input()\n",
        "\n",
        "vowels = '[AEIOUaeiou]{2,}'\n",
        "consonant = '[QWRTYPSDFGHJKLZXCVBNMqwrtypsdfghjklzxcvbnm]'\n",
        "testpattern=re.compile(rf'(?<={consonant}){vowels}(?={consonant})')\n",
        "\n",
        "result = testpattern.findall(s)\n",
        "\n",
        "print(*result if len(result) > 0 else [-1], sep='\\n')"
      ],
      "metadata": {
        "id": "NFimTMIelT35"
      },
      "execution_count": null,
      "outputs": []
    },
    {
      "cell_type": "markdown",
      "source": [
        "Re.start() and Re.end()"
      ],
      "metadata": {
        "id": "M3bqfbU-h0li"
      }
    },
    {
      "cell_type": "code",
      "source": [
        "# Enter your code here. Read input from STDIN. Print output to STDOUT\n",
        "import re\n",
        "s,k = input(),input()\n",
        "patter = re.compile(k)\n",
        "m=patter.search(s)\n",
        "\n",
        "if not m:\n",
        "        print((-1,-1))  \n",
        "while m:\n",
        "    print((m.start(),m.end()-1))\n",
        "    m=patter.search(s,m.start()+1)"
      ],
      "metadata": {
        "id": "HUZawGbxlBgt"
      },
      "execution_count": null,
      "outputs": []
    },
    {
      "cell_type": "markdown",
      "source": [
        "RegX Substitution"
      ],
      "metadata": {
        "id": "6G5V3l8LmWrS"
      }
    },
    {
      "cell_type": "code",
      "source": [
        "# Enter your code here. Read input from STDIN. Print output to STDOUT\n",
        "import re\n",
        "def subst(match):\n",
        "    #print(match.group(0))\n",
        "    if match.group(0)=='&& ':\n",
        "        return 'and '\n",
        "    if match.group(0)=='|| ':\n",
        "        return 'or '\n",
        "    raise ValueError\n",
        "\n",
        "\n",
        "n=int(input())\n",
        "for _ in range(n):\n",
        "    line=input()\n",
        "    print(re.sub(r'((?<= )\\&\\& )|((?<= )\\|\\| )', subst, line))"
      ],
      "metadata": {
        "id": "vxI4U5FxojC-"
      },
      "execution_count": null,
      "outputs": []
    },
    {
      "cell_type": "markdown",
      "source": [
        "Validating Roman Numerals"
      ],
      "metadata": {
        "id": "e8uMO-rSoqZn"
      }
    },
    {
      "cell_type": "code",
      "source": [
        "regex_pattern = r\"^(?=[MDCLXVI])M{0,3}(C[MD]|D?C{0,3})(X[CL]|L?X{0,3})(I[XV]|V?I{0,3})$\"    # Do not delete 'r'.\n",
        "\n",
        "\n",
        "import re\n",
        "print(str(bool(re.match(regex_pattern, input()))))"
      ],
      "metadata": {
        "id": "8DlEIMTtozjP"
      },
      "execution_count": null,
      "outputs": []
    },
    {
      "cell_type": "markdown",
      "source": [
        "Validating phone numbers\n",
        "\n"
      ],
      "metadata": {
        "id": "tve2hCZtqweU"
      }
    },
    {
      "cell_type": "code",
      "source": [
        "for _ in range(int(input())):\n",
        "    print('YES' if bool(__import__('re').match('^[789]{1}\\d{9}$', input())) else 'NO')"
      ],
      "metadata": {
        "id": "P4NKItN5q6kv"
      },
      "execution_count": null,
      "outputs": []
    },
    {
      "cell_type": "markdown",
      "source": [
        "Validating and Parsing Email Addresses"
      ],
      "metadata": {
        "id": "Rdiba7oLrQGc"
      }
    },
    {
      "cell_type": "code",
      "source": [
        "import re\n",
        "\n",
        "for _ in range(int(input())):\n",
        "    s = input()\n",
        "    if re.search(r'<[a-zA-Z][\\w\\-.]+@[a-zA-Z]+\\.[a-zA-Z]{1,3}>', s):\n",
        "        print(s)"
      ],
      "metadata": {
        "id": "Fnu62NJRrRD1"
      },
      "execution_count": null,
      "outputs": []
    },
    {
      "cell_type": "markdown",
      "source": [
        "Hex Color Code\n",
        "\n"
      ],
      "metadata": {
        "id": "hwYTgeuArnBw"
      }
    },
    {
      "cell_type": "code",
      "source": [
        "import re\n",
        "\n",
        "pattern = re.compile(r'#([0-9a-fA-F]{1,2}){3}')\n",
        "\n",
        "res = []\n",
        "for _ in range(int(input())):\n",
        "    s = input()\n",
        "    if s.endswith(';'):\n",
        "        res += [m.group(0) for m in re.finditer(pattern, s)]\n",
        "print(*res, sep='\\n')"
      ],
      "metadata": {
        "id": "g5vBjcfyrxfs"
      },
      "execution_count": null,
      "outputs": []
    },
    {
      "cell_type": "markdown",
      "source": [
        "HTML Parser - Part 1\n",
        "\n"
      ],
      "metadata": {
        "id": "V622Q_tKsH-N"
      }
    },
    {
      "cell_type": "code",
      "source": [
        "from html.parser import HTMLParser\n",
        "\n",
        "def show(attrs):\n",
        "    for attr in attrs:\n",
        "            print(\"-> {0} > {1}\".format(attr[0], attr[1]))\n",
        "            \n",
        "class MyHTMLParser(HTMLParser):\n",
        "    def handle_starttag(self, tag, attrs):\n",
        "        print(f\"Start : {tag}\")\n",
        "        show(attrs)\n",
        "            \n",
        "    def handle_endtag(self, tag):\n",
        "        print(\"End   : \" + tag)\n",
        "\n",
        "    def handle_startendtag(self, tag, attrs):\n",
        "        print(\"Empty :\", tag)\n",
        "        show(attrs)\n",
        "        \n",
        "parser = MyHTMLParser()\n",
        "parser.feed(''.join([input() for _ in range(int(input()))]))"
      ],
      "metadata": {
        "id": "MhnKxS7hsLQb"
      },
      "execution_count": null,
      "outputs": []
    },
    {
      "cell_type": "markdown",
      "source": [
        "HTML Parser - Part 2\n",
        "\n"
      ],
      "metadata": {
        "id": "zG3i3NUVs-bM"
      }
    },
    {
      "cell_type": "code",
      "source": [
        "from html.parser import HTMLParser\n",
        "\n",
        "class MyHTMLParser(HTMLParser):\n",
        "    def handle_comment(self, data):\n",
        "        data = str(data).split('\\n')\n",
        "        if len(data)>1:\n",
        "            print('>>> Multi-line Comment', *data, sep='\\n')\n",
        "        else:\n",
        "            print('>>> Single-line Comment', data[0], sep='\\n')            \n",
        "    def handle_data(self, data):\n",
        "        data = str(data).replace('\\n', '')\n",
        "        if len(data)>0:\n",
        "            print('>>> Data', data, sep='\\n')\n",
        "\n",
        "html = \"\"       \n",
        "for _ in range(int(input())):\n",
        "    html += input().rstrip()\n",
        "    html += '\\n'\n",
        "    \n",
        "parser = MyHTMLParser()\n",
        "parser.feed(html)\n",
        "parser.close()"
      ],
      "metadata": {
        "id": "3pO2IgZ1tE4E"
      },
      "execution_count": null,
      "outputs": []
    },
    {
      "cell_type": "markdown",
      "source": [
        "Detect HTML Tags, Attributes and Attribute Values\n",
        "\n"
      ],
      "metadata": {
        "id": "LlD-dBfut5mg"
      }
    },
    {
      "cell_type": "code",
      "source": [
        "from html.parser import HTMLParser\n",
        "\n",
        "class MyHTMLParser(HTMLParser):\n",
        "    def handle_starttag(self, tag, attrs):\n",
        "        print(tag, *('-> {0} > {1}'.format(*attr) for attr in attrs), sep='\\n')\n",
        "\n",
        "MyHTMLParser().feed(''.join([input() for _ in range(int(input()))]))"
      ],
      "metadata": {
        "id": "ENUzphn9uC-c"
      },
      "execution_count": null,
      "outputs": []
    },
    {
      "cell_type": "markdown",
      "source": [
        "Validating UID"
      ],
      "metadata": {
        "id": "gG2cwOpmugQN"
      }
    },
    {
      "cell_type": "code",
      "source": [
        "import re\n",
        "\n",
        "def is_valid_uid(uid):\n",
        "    return all([\n",
        "        re.search(r'[A-Z].*[A-Z]', uid),\n",
        "        re.search(r'\\d.*\\d.*\\d', uid),\n",
        "        not re.search(r'\\W', uid),\n",
        "        len(set(uid)) == 10,\n",
        "        len(uid) == 10\n",
        "    ])\n",
        "\n",
        "t = int(input().strip())\n",
        "\n",
        "for i in range(t):\n",
        "    uid = input().strip()\n",
        "    if is_valid_uid(uid):\n",
        "        print(\"Valid\")\n",
        "    else:\n",
        "        print(\"Invalid\")"
      ],
      "metadata": {
        "id": "lcaNL7yMuqDx"
      },
      "execution_count": null,
      "outputs": []
    }
  ]
}