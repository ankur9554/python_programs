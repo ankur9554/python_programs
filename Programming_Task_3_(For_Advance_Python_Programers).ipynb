{
  "nbformat": 4,
  "nbformat_minor": 0,
  "metadata": {
    "colab": {
      "provenance": []
    },
    "kernelspec": {
      "name": "python3",
      "display_name": "Python 3"
    },
    "language_info": {
      "name": "python"
    }
  },
  "cells": [
    {
      "cell_type": "markdown",
      "source": [
        "Maximum product of Two Elements"
      ],
      "metadata": {
        "id": "qa-nBz1nSRPI"
      }
    },
    {
      "cell_type": "code",
      "source": [
        "class Solution:\n",
        "    def maxProduct(self, nums: List[int]) -> int:\n",
        "        ans =0\n",
        "        for i in range(len(nums)):\n",
        "            for j in range(1,len(nums)):\n",
        "                if (i==j):\n",
        "                    break\n",
        "                else:\n",
        "                    product = (nums[i]-1)* (nums[j]-1)\n",
        "                    if (product>ans):\n",
        "                        ans = product\n",
        "        return ans\n",
        "            "
      ],
      "metadata": {
        "id": "TZP_vtbaSVLm"
      },
      "execution_count": null,
      "outputs": []
    },
    {
      "cell_type": "markdown",
      "source": [
        "Count Number of Teams"
      ],
      "metadata": {
        "id": "hZi7OIgYSZ-b"
      }
    },
    {
      "cell_type": "code",
      "source": [
        "class Solution:\n",
        "    def numTeams(self, rating: List[int]) -> int:\n",
        "        upper_dps = [0 for _ in range(len(rating))]\n",
        "        lower_dps = [0 for _ in range(len(rating))]\n",
        "        \n",
        "        count = 0\n",
        "        for i in range(len(rating)):\n",
        "            for j in range(i):\n",
        "                if rating[j] < rating[i]:\n",
        "                    count += upper_dps[j]\n",
        "                    upper_dps[i] += 1\n",
        "                else:\n",
        "                    count += lower_dps[j]\n",
        "                    lower_dps[i] += 1"
      ],
      "metadata": {
        "id": "AN5z-GrYSc5V"
      },
      "execution_count": null,
      "outputs": []
    },
    {
      "cell_type": "markdown",
      "source": [
        "Number of Students Doing Homework at a Given Time"
      ],
      "metadata": {
        "id": "WgNIKTeWz-FQ"
      }
    },
    {
      "cell_type": "code",
      "source": [
        "class Solution:\n",
        "    def busyStudent(self, startTime: List[int], endTime: List[int], queryTime: int) -> int:\n",
        "        count =0\n",
        "        for i in range(len(startTime)):\n",
        "            if(queryTime>=startTime[i] and queryTime<=endTime[i]):\n",
        "                count+=1\n",
        "        return count"
      ],
      "metadata": {
        "id": "q0kcLOuLz-2L"
      },
      "execution_count": null,
      "outputs": []
    },
    {
      "cell_type": "markdown",
      "source": [
        "Number of Steps to Reduce a Number to Zero"
      ],
      "metadata": {
        "id": "VEq-qDox4vfz"
      }
    },
    {
      "cell_type": "code",
      "source": [
        "class Solution:\n",
        "    def numberOfSteps(self, num: int) -> int:\n",
        "        count =0\n",
        "        while(num!=0):\n",
        "            if(num%2==0):\n",
        "                num= num/2\n",
        "                count+=1\n",
        "            else:\n",
        "                num= num-1\n",
        "                count+=1\n",
        "        return count"
      ],
      "metadata": {
        "id": "55NQKai243co"
      },
      "execution_count": null,
      "outputs": []
    },
    {
      "cell_type": "markdown",
      "source": [
        "Counting Bits"
      ],
      "metadata": {
        "id": "TaZB6Wod5rZh"
      }
    },
    {
      "cell_type": "code",
      "source": [
        "class Solution:\n",
        "    def countBits(self, n: int) -> List[int]:\n",
        "        res = [0]\n",
        "        for i in range(1, n+1):\n",
        "            res.append(res[i>>1] + i%2)\n",
        "        return res"
      ],
      "metadata": {
        "id": "oerOJjwU5sAs"
      },
      "execution_count": null,
      "outputs": []
    }
  ]
}