{
  "nbformat": 4,
  "nbformat_minor": 0,
  "metadata": {
    "colab": {
      "provenance": []
    },
    "kernelspec": {
      "name": "python3",
      "display_name": "Python 3"
    },
    "language_info": {
      "name": "python"
    }
  },
  "cells": [
    {
      "cell_type": "code",
      "execution_count": null,
      "metadata": {
        "id": "0uIJyv25RGYQ"
      },
      "outputs": [],
      "source": [
        "class Solution:\n",
        "    def runningSum(self, nums: List[int]) -> List[int]:\n",
        "        ans =[]\n",
        "        sum= 0\n",
        "        for number in nums:\n",
        "            sum= sum+number\n",
        "            ans.append(sum)\n",
        "        return ans"
      ]
    },
    {
      "cell_type": "code",
      "source": [
        "class Solution:\n",
        "    def shuffle(self, nums: List[int], n: int) -> List[int]:\n",
        "        res=[]\n",
        "        for i in range(n):\n",
        "            res.append(nums[i])\n",
        "            res.append(nums[i+n])\n",
        "        return res"
      ],
      "metadata": {
        "id": "F_fZW3aJgpAB"
      },
      "execution_count": null,
      "outputs": []
    },
    {
      "cell_type": "code",
      "source": [
        "class Solution:\n",
        "    def kidsWithCandies(self, candies: List[int], extraCandies: int) -> List[bool]:\n",
        "        ans=[]\n",
        "        maximum = max(candies)\n",
        "        for i in range(len(candies)):\n",
        "            if(candies[i]+extraCandies>=maximum):\n",
        "                ans.append(True)\n",
        "            else:\n",
        "                ans.append(False)\n",
        "        return ans"
      ],
      "metadata": {
        "id": "Xi34CwrfiptD"
      },
      "execution_count": null,
      "outputs": []
    }
  ]
}